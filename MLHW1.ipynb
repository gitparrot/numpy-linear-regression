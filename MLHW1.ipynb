{
  "cells": [
    {
      "cell_type": "markdown",
      "metadata": {
        "id": "TA4iBJMCPFwe"
      },
      "source": []
    },
    {
      "cell_type": "markdown",
      "metadata": {
        "id": "Nc_tdNSEAkUj"
      },
      "source": [
        "## **Theory Part 1 A.**"
      ]
    },
    {
      "cell_type": "code",
      "execution_count": null,
      "metadata": {
        "id": "X6UJiyEvRVdQ"
      },
      "outputs": [],
      "source": [
        "import numpy as np\n",
        "import matplotlib.pyplot as plt\n",
        "import pandas as pd\n",
        "from sklearn.linear_model import LinearRegression\n",
        "from sklearn.model_selection import KFold\n",
        "import random as rand\n",
        "import requests as req"
      ]
    },
    {
      "cell_type": "code",
      "execution_count": null,
      "metadata": {
        "id": "A5t0M_QTRaGs"
      },
      "outputs": [],
      "source": [
        "data = [[-2,1],\n",
        "     [-5,-4],\n",
        "     [-3,1],\n",
        "     [0,3],\n",
        "     [-6,11],\n",
        "     [-2,5],\n",
        "     [1,0],\n",
        "     [5,-1],\n",
        "     [-1,-3],\n",
        "     [3,1]]\n",
        "data = np.matrix(data)\n",
        "n,m = data.shape"
      ]
    },
    {
      "cell_type": "code",
      "execution_count": null,
      "metadata": {
        "id": "rfxGMblt_tSK"
      },
      "outputs": [],
      "source": [
        "stdx = data[:,0]\n",
        "mean = np.mean(stdx, axis=0)\n",
        "std = np.std(stdx, axis=0, ddof=1)\n",
        "stdx = (stdx - mean)/std"
      ]
    },
    {
      "cell_type": "code",
      "execution_count": null,
      "metadata": {
        "id": "YZ9E2LV3Xaqe"
      },
      "outputs": [],
      "source": [
        "Y = data[:,1]\n",
        "Y = np.matrix(Y)"
      ]
    },
    {
      "cell_type": "code",
      "execution_count": null,
      "metadata": {
        "id": "vIUXQ8er0FzA"
      },
      "outputs": [],
      "source": [
        "thetazero = np.ones((n, 1))"
      ]
    },
    {
      "cell_type": "code",
      "execution_count": null,
      "metadata": {
        "id": "HHsd6cdS7VLA"
      },
      "outputs": [],
      "source": [
        "XMat = np.hstack((thetazero, stdx))"
      ]
    },
    {
      "cell_type": "code",
      "execution_count": null,
      "metadata": {
        "id": "JVG4W6BA8B4R"
      },
      "outputs": [],
      "source": [
        "thetas = np.linalg.inv(XMat.T @ XMat) @ XMat.T @ Y"
      ]
    },
    {
      "cell_type": "code",
      "execution_count": null,
      "metadata": {
        "id": "-gOjjgGKOe-e"
      },
      "outputs": [],
      "source": [
        "line = np.matrix((thetas[1] * stdx[:,0].T) + thetas[0])\n",
        "line = line.T"
      ]
    },
    {
      "cell_type": "code",
      "execution_count": null,
      "metadata": {
        "colab": {
          "base_uri": "https://localhost:8080/",
          "height": 264
        },
        "id": "x1LucWR7EPPg",
        "outputId": "757d6e96-ac51-4e21-bdfb-9e3f7554cc38"
      },
      "outputs": [
        {
          "data": {
            "image/png": "[encoded data removed]",
            "text/plain": [
              "<Figure size 432x288 with 1 Axes>"
            ]
          },
          "metadata": {
            "needs_background": "light"
          },
          "output_type": "display_data"
        }
      ],
      "source": [
        "plt.plot(stdx[:,0], data[:,1], 'rx')\n",
        "plt.plot(stdx[:,0], line[:,0], 'b')\n",
        "plt.plot\n",
        "plt.show()"
      ]
    },
    {
      "cell_type": "markdown",
      "metadata": {
        "id": "Pz0ZutDbisck"
      },
      "source": [
        "### **Theory Part 1 B.**"
      ]
    },
    {
      "cell_type": "code",
      "execution_count": null,
      "metadata": {
        "colab": {
          "base_uri": "https://localhost:8080/"
        },
        "id": "6iXoAtbwizoZ",
        "outputId": "349b10a6-79f2-4262-c348-c354d53bbe49"
      },
      "outputs": [
        {
          "name": "stdout",
          "output_type": "stream",
          "text": [
            "[[ 0.         -1.50355704]]\n",
            "[1.4]\n",
            "--------\n",
            "[[ 1.4       ]\n",
            " [-1.50355704]]\n"
          ]
        },
        {
          "name": "stderr",
          "output_type": "stream",
          "text": [
            "/usr/local/lib/python3.7/dist-packages/sklearn/utils/validation.py:598: FutureWarning: np.matrix usage is deprecated in 1.0 and will raise a TypeError in 1.2. Please convert to a numpy array with np.asarray. For more information see: https://numpy.org/doc/stable/reference/generated/numpy.matrix.html\n",
            "  FutureWarning,\n",
            "/usr/local/lib/python3.7/dist-packages/sklearn/utils/validation.py:598: FutureWarning: np.matrix usage is deprecated in 1.0 and will raise a TypeError in 1.2. Please convert to a numpy array with np.asarray. For more information see: https://numpy.org/doc/stable/reference/generated/numpy.matrix.html\n",
            "  FutureWarning,\n"
          ]
        }
      ],
      "source": [
        "reg = LinearRegression().fit(XMat, Y)\n",
        "print(reg.coef_)\n",
        "print(reg.intercept_)\n",
        "print('--------')\n",
        "print(thetas)"
      ]
    },
    {
      "cell_type": "markdown",
      "metadata": {
        "id": "7xyw09S4PPAW"
      },
      "source": [
        "### **[Theory Part 2](https://)**\n",
        "1. Using the power rule: Derivative of (x-1)^4 is 4(x-1)^3\n",
        "2. The value equals 0 at x=1 for the derivative we can tell it is the global minima because the slope of the derivative before 1 is negative and after is positive. Example: 4(0.9 - 1)^3 = -0.004 and 4(1.1-1)^3 = 0.004"
      ]
    },
    {
      "cell_type": "code",
      "execution_count": null,
      "metadata": {
        "colab": {
          "base_uri": "https://localhost:8080/",
          "height": 302
        },
        "id": "48r2EKE7RkCY",
        "outputId": "1cd5e03f-4020-40a5-be16-391afaaa564d"
      },
      "outputs": [
        {
          "data": {
            "text/plain": [
              "[<matplotlib.lines.Line2D at 0x7f66d6902350>,\n",
              " <matplotlib.lines.Line2D at 0x7f66f6b95f90>]"
            ]
          },
          "execution_count": 11,
          "metadata": {},
          "output_type": "execute_result"
        },
        {
          "data": {
            "image/png": "[encoded data removed]",
            "text/plain": [
              "<Figure size 432x288 with 1 Axes>"
            ]
          },
          "metadata": {
            "needs_background": "light"
          },
          "output_type": "display_data"
        }
      ],
      "source": [
        "polys = np.poly1d([1,-4,6,-4,1])\n",
        "\n",
        "xrange = np.linspace(-10, 10)\n",
        "\n",
        "new_y = polys(xrange)\n",
        "\n",
        "\n",
        "plt.plot(1, 0, \"o\", xrange, new_y)"
      ]
    },
    {
      "cell_type": "code",
      "execution_count": null,
      "metadata": {
        "colab": {
          "base_uri": "https://localhost:8080/",
          "height": 302
        },
        "id": "JQBZJUViVO1C",
        "outputId": "0985be71-ea12-43af-a437-a9ca37c7d106"
      },
      "outputs": [
        {
          "data": {
            "text/plain": [
              "[<matplotlib.lines.Line2D at 0x7f66d68809d0>,\n",
              " <matplotlib.lines.Line2D at 0x7f66d6880c50>]"
            ]
          },
          "execution_count": 12,
          "metadata": {},
          "output_type": "execute_result"
        },
        {
          "data": {
            "image/png": "[encoded data removed]",
            "text/plain": [
              "<Figure size 432x288 with 1 Axes>"
            ]
          },
          "metadata": {
            "needs_background": "light"
          },
          "output_type": "display_data"
        }
      ],
      "source": [
        "gradpolys = np.poly1d([4,-12,12,-4])\n",
        "\n",
        "gradnew_y = gradpolys(xrange)\n",
        "\n",
        "\n",
        "plt.plot(1, 0, \"o\", xrange, gradnew_y)"
      ]
    },
    {
      "cell_type": "markdown",
      "metadata": {
        "id": "wBEK0v8WsaZL"
      },
      "source": [
        "\n",
        "\n",
        "\n",
        "### **Q2**\n",
        "\n",
        "\n",
        "\n"
      ]
    },
    {
      "cell_type": "code",
      "execution_count": null,
      "metadata": {
        "id": "YgdL9vsKbM60"
      },
      "outputs": [],
      "source": [
        "url = 'https://raw.githubusercontent.com/gitparrot/MLHW1/main/x06Simple.csv'\n",
        "csvdata = pd.read_csv(url, header=None, index_col=False)"
      ]
    },
    {
      "cell_type": "code",
      "execution_count": null,
      "metadata": {
        "id": "uAvIS1y5v2HJ"
      },
      "outputs": [],
      "source": [
        "csvdata = csvdata.iloc[1:,1:]"
      ]
    },
    {
      "cell_type": "code",
      "execution_count": null,
      "metadata": {
        "colab": {
          "base_uri": "https://localhost:8080/"
        },
        "id": "qxOvGtjMzroH",
        "outputId": "b23dbd64-498d-4603-ce4b-635771bf5410"
      },
      "outputs": [
        {
          "name": "stderr",
          "output_type": "stream",
          "text": [
            "/usr/local/lib/python3.7/dist-packages/ipykernel_launcher.py:3: DeprecationWarning: Converting `np.integer` or `np.signedinteger` to a dtype is deprecated. The current result is `np.dtype(np.int_)` which is not strictly correct. Note that the result depends on the system. To ensure stable results use may want to use `np.int64` or `np.int32`.\n",
            "  This is separate from the ipykernel package so we can avoid doing imports until\n"
          ]
        }
      ],
      "source": [
        "csvdata = csvdata.sample(frac=1, random_state=0)\n",
        "csvdata = csvdata.to_numpy()\n",
        "csvdata = csvdata.astype(np.integer)"
      ]
    },
    {
      "cell_type": "code",
      "execution_count": null,
      "metadata": {
        "id": "B84KSLfx1iIA"
      },
      "outputs": [],
      "source": [
        "m, n = csvdata.shape"
      ]
    },
    {
      "cell_type": "code",
      "execution_count": null,
      "metadata": {
        "id": "PtxxdL73ACMl"
      },
      "outputs": [],
      "source": [
        "trainrows = int((2/3)*m)\n",
        "testrows = m - trainrows"
      ]
    },
    {
      "cell_type": "code",
      "execution_count": null,
      "metadata": {
        "id": "jnD10I7ROKms"
      },
      "outputs": [],
      "source": [
        "testdata = csvdata[(trainrows):, :2]\n",
        "testY = csvdata[(trainrows):, 2:]"
      ]
    },
    {
      "cell_type": "code",
      "execution_count": null,
      "metadata": {
        "id": "lqSt6dVWERPZ"
      },
      "outputs": [],
      "source": [
        "traindata = csvdata[:trainrows, :2]\n",
        "trainY = csvdata[:trainrows, 2:]"
      ]
    },
    {
      "cell_type": "code",
      "execution_count": null,
      "metadata": {
        "id": "7xVvKSSvJXfk"
      },
      "outputs": [],
      "source": [
        "mean = np.mean(traindata, axis=0)\n",
        "std = np.std(traindata, axis=0, ddof=1)\n",
        "stdtrain = (traindata - mean)/std\n",
        "mean = np.mean(testdata, axis=0)\n",
        "std = np.std(testdata, axis=0, ddof=1)\n",
        "stdtest = (testdata - mean)/std"
      ]
    },
    {
      "cell_type": "code",
      "execution_count": null,
      "metadata": {
        "id": "q77UgCnDL1jI"
      },
      "outputs": [],
      "source": [
        "thetazero = np.ones((trainrows, 1))"
      ]
    },
    {
      "cell_type": "code",
      "execution_count": null,
      "metadata": {
        "id": "N5IWNgGoRTDQ"
      },
      "outputs": [],
      "source": [
        "XMat = np.hstack((thetazero, stdtrain))"
      ]
    },
    {
      "cell_type": "code",
      "execution_count": null,
      "metadata": {
        "id": "HdgyCVCZR26E"
      },
      "outputs": [],
      "source": [
        "thetas = np.linalg.inv(XMat.T @ XMat) @ XMat.T @ trainY"
      ]
    },
    {
      "cell_type": "code",
      "execution_count": null,
      "metadata": {
        "id": "jL-xyeHWW_tp"
      },
      "outputs": [],
      "source": [
        "line = np.matrix((thetas[1] * stdtest[:,0].T) + (thetas[2] * stdtest[:,1]) + thetas[0])\n",
        "line = line.T"
      ]
    },
    {
      "cell_type": "code",
      "execution_count": null,
      "metadata": {
        "colab": {
          "base_uri": "https://localhost:8080/"
        },
        "id": "QYc_NzueLh4Z",
        "outputId": "ca654bc6-ebca-4c5a-83cc-c3cdd6a4a299"
      },
      "outputs": [
        {
          "name": "stdout",
          "output_type": "stream",
          "text": [
            "\n",
            "RMSE:  926.9404349367073\n"
          ]
        }
      ],
      "source": [
        "RMSE = np.sqrt((1/testrows)*(np.sum(np.square(line - testY))))\n",
        "print('')\n",
        "print('RMSE: ', RMSE)"
      ]
    },
    {
      "cell_type": "code",
      "execution_count": null,
      "metadata": {
        "colab": {
          "base_uri": "https://localhost:8080/"
        },
        "id": "jHY1Lbp3hQOK",
        "outputId": "b2449f8f-4aaf-4cf9-f7b1-2f6bc38b1c46"
      },
      "outputs": [
        {
          "name": "stdout",
          "output_type": "stream",
          "text": [
            "[[   0.         1036.63016523 -295.66859639]]\n",
            "[3343.27586207]\n",
            "--------\n",
            "[[3343.27586207]\n",
            " [1036.63016523]\n",
            " [-295.66859639]]\n"
          ]
        }
      ],
      "source": [
        "reg = LinearRegression().fit(XMat, trainY)\n",
        "print(reg.coef_)\n",
        "print(reg.intercept_)\n",
        "print('--------')\n",
        "print(thetas)"
      ]
    },
    {
      "cell_type": "markdown",
      "metadata": {
        "id": "ysQHaVfPg-OY"
      },
      "source": [
        "### **Q3**"
      ]
    },
    {
      "cell_type": "code",
      "execution_count": null,
      "metadata": {
        "id": "7ZIC6F87-DoU"
      },
      "outputs": [],
      "source": [
        "SFX = csvdata[:,:2]\n",
        "SFY = csvdata[:,2:]\n",
        "LRMSE=[]"
      ]
    },
    {
      "cell_type": "code",
      "execution_count": null,
      "metadata": {
        "colab": {
          "base_uri": "https://localhost:8080/"
        },
        "id": "eH08MbryhAuv",
        "outputId": "3c4d6842-e1a4-4346-a002-e7297ec38d82"
      },
      "outputs": [
        {
          "name": "stdout",
          "output_type": "stream",
          "text": [
            "RMSE average: 593.5946107737357\n",
            "RMSE std dev: 39.64164826351596\n"
          ]
        }
      ],
      "source": [
        "for i in range(0,20):\n",
        "  kf = KFold(n_splits=3, shuffle=True,random_state=i)\n",
        "  for train_index, test_index in kf.split(SFX):\n",
        "    x_train, x_test = SFX[train_index], SFX[test_index]\n",
        "    y_train, ytest = SFY[train_index], SFY[test_index]\n",
        "\n",
        "    mean = np.mean(x_train, axis=0)\n",
        "    std = np.std(x_train, axis=0, ddof=1)\n",
        "    stdtrain = (x_train - mean)/std\n",
        "    mean = np.mean(x_test, axis=0)\n",
        "    std = np.std(x_test, axis=0, ddof=1)\n",
        "    stdtest = (x_test - mean)/std\n",
        "\n",
        "    thetazero = np.ones((len(stdtrain), 1))\n",
        "\n",
        "    XMat = np.hstack((thetazero, stdtrain))\n",
        "\n",
        "    thetas = np.linalg.inv(XMat.T @ XMat) @ XMat.T @ y_train\n",
        "\n",
        "    line = np.matrix((thetas[1] * stdtrain[:,0].T) + (thetas[2] * stdtrain[:,1]) + thetas[0])\n",
        "\n",
        "    se = np.sum(np.square(line.T - y_train))\n",
        "\n",
        "  RMSE = np.sqrt((1/len(y_train))*se)\n",
        "\n",
        "  LRMSE.append(RMSE)\n",
        "\n",
        "mean = np.mean(LRMSE, axis=0)\n",
        "std = np.std(LRMSE, axis=0, ddof=1)\n",
        "\n",
        "print('RMSE average:', mean)\n",
        "print('RMSE std dev:', std)\n",
        "\n",
        "LRMSE = []"
      ]
    },
    {
      "cell_type": "code",
      "execution_count": null,
      "metadata": {
        "colab": {
          "base_uri": "https://localhost:8080/"
        },
        "id": "NjkVQgM_TRFx",
        "outputId": "8c578660-ee1c-41e3-866a-79cd8bc294b2"
      },
      "outputs": [
        {
          "name": "stdout",
          "output_type": "stream",
          "text": [
            "RMSE average: 588.9301257901046\n",
            "RMSE std dev: 21.49974146176737\n"
          ]
        }
      ],
      "source": [
        "for i in range(0,20):\n",
        "  kf = KFold(n_splits=5, shuffle=True,random_state=i)\n",
        "  for train_index, test_index in kf.split(SFX):\n",
        "    x_train, x_test = SFX[train_index], SFX[test_index]\n",
        "    y_train, ytest = SFY[train_index], SFY[test_index]\n",
        "\n",
        "    mean = np.mean(x_train, axis=0)\n",
        "    std = np.std(x_train, axis=0, ddof=1)\n",
        "    stdtrain = (x_train - mean)/std\n",
        "    mean = np.mean(x_test, axis=0)\n",
        "    std = np.std(x_test, axis=0, ddof=1)\n",
        "    stdtest = (x_test - mean)/std\n",
        "\n",
        "    thetazero = np.ones((len(stdtrain), 1))\n",
        "\n",
        "    XMat = np.hstack((thetazero, stdtrain))\n",
        "\n",
        "    thetas = np.linalg.inv(XMat.T @ XMat) @ XMat.T @ y_train\n",
        "\n",
        "    line = np.matrix((thetas[1] * stdtrain[:,0].T) + (thetas[2] * stdtrain[:,1]) + thetas[0])\n",
        "\n",
        "    se = np.sum(np.square(line.T - y_train))\n",
        "\n",
        "  RMSE = np.sqrt((1/len(y_train))*se)\n",
        "\n",
        "  LRMSE.append(RMSE)\n",
        "\n",
        "mean = np.mean(LRMSE, axis=0)\n",
        "std = np.std(LRMSE, axis=0, ddof=1)\n",
        "\n",
        "print('RMSE average:', mean)\n",
        "print('RMSE std dev:', std)\n",
        "\n",
        "LRMSE = []"
      ]
    },
    {
      "cell_type": "code",
      "execution_count": null,
      "metadata": {
        "colab": {
          "base_uri": "https://localhost:8080/"
        },
        "id": "lfpp003vTW3t",
        "outputId": "da689f20-7908-4c9f-b440-8ae8a80f78ff"
      },
      "outputs": [
        {
          "name": "stderr",
          "output_type": "stream",
          "text": [
            "/usr/local/lib/python3.7/dist-packages/ipykernel_launcher.py:12: RuntimeWarning: invalid value encountered in true_divide\n",
            "  if sys.path[0] == '':\n"
          ]
        },
        {
          "name": "stdout",
          "output_type": "stream",
          "text": [
            "RMSE average: 579.4643384710268\n",
            "RMSE std dev: 13.325454286593644\n"
          ]
        }
      ],
      "source": [
        "for i in range(0,20):\n",
        "  kf = KFold(n_splits=20, shuffle=True,random_state=i)\n",
        "  for train_index, test_index in kf.split(SFX):\n",
        "    x_train, x_test = SFX[train_index], SFX[test_index]\n",
        "    y_train, ytest = SFY[train_index], SFY[test_index]\n",
        "\n",
        "    mean = np.mean(x_train, axis=0)\n",
        "    std = np.std(x_train, axis=0, ddof=1)\n",
        "    stdtrain = (x_train - mean)/std\n",
        "    mean = np.mean(x_test, axis=0)\n",
        "    std = np.std(x_test, axis=0, ddof=1)\n",
        "    stdtest = (x_test - mean)/std\n",
        "\n",
        "    thetazero = np.ones((len(stdtrain), 1))\n",
        "\n",
        "    XMat = np.hstack((thetazero, stdtrain))\n",
        "\n",
        "    thetas = np.linalg.inv(XMat.T @ XMat) @ XMat.T @ y_train\n",
        "\n",
        "    line = np.matrix((thetas[1] * stdtrain[:,0].T) + (thetas[2] * stdtrain[:,1]) + thetas[0])\n",
        "\n",
        "    se = np.sum(np.square(line.T - y_train))\n",
        "\n",
        "  RMSE = np.sqrt((1/len(y_train))*se)\n",
        "\n",
        "  LRMSE.append(RMSE)\n",
        "\n",
        "mean = np.mean(LRMSE, axis=0)\n",
        "std = np.std(LRMSE, axis=0, ddof=1)\n",
        "\n",
        "print('RMSE average:', mean)\n",
        "print('RMSE std dev:', std)\n",
        "\n",
        "LRMSE = []\n"
      ]
    },
    {
      "cell_type": "code",
      "execution_count": null,
      "metadata": {
        "colab": {
          "base_uri": "https://localhost:8080/"
        },
        "id": "tnQuywEtTcXm",
        "outputId": "1d511304-6d72-4c9b-a790-b5e9715cd961"
      },
      "outputs": [
        {
          "name": "stderr",
          "output_type": "stream",
          "text": [
            "/usr/local/lib/python3.7/dist-packages/numpy/core/_methods.py:234: RuntimeWarning: Degrees of freedom <= 0 for slice\n",
            "  keepdims=keepdims)\n",
            "/usr/local/lib/python3.7/dist-packages/numpy/core/_methods.py:224: RuntimeWarning: invalid value encountered in true_divide\n",
            "  ret, rcount, out=ret, casting='unsafe', subok=False)\n"
          ]
        },
        {
          "name": "stdout",
          "output_type": "stream",
          "text": [
            "RMSE average: 579.8908534476157\n",
            "RMSE std dev: 7.183936357478547\n"
          ]
        }
      ],
      "source": [
        "for i in range(0,20):\n",
        "  kf = KFold(n_splits=len(SFX), shuffle=True,random_state=i)\n",
        "  for train_index, test_index in kf.split(SFX):\n",
        "    x_train, x_test = SFX[train_index], SFX[test_index]\n",
        "    y_train, ytest = SFY[train_index], SFY[test_index]\n",
        "\n",
        "    mean = np.mean(x_train, axis=0)\n",
        "    std = np.std(x_train, axis=0, ddof=1)\n",
        "    stdtrain = (x_train - mean)/std\n",
        "    mean = np.mean(x_test, axis=0)\n",
        "    std = np.std(x_test, axis=0, ddof=1)\n",
        "    stdtest = (x_test - mean)/std\n",
        "\n",
        "    thetazero = np.ones((len(stdtrain), 1))\n",
        "\n",
        "    XMat = np.hstack((thetazero, stdtrain))\n",
        "\n",
        "    thetas = np.linalg.inv(XMat.T @ XMat) @ XMat.T @ y_train\n",
        "\n",
        "    line = np.matrix((thetas[1] * stdtrain[:,0].T) + (thetas[2] * stdtrain[:,1]) + thetas[0])\n",
        "\n",
        "    se = np.sum(np.square(line.T - y_train))\n",
        "\n",
        "  RMSE = np.sqrt((1/len(y_train))*se)\n",
        "\n",
        "  LRMSE.append(RMSE)\n",
        "\n",
        "mean = np.mean(LRMSE, axis=0)\n",
        "std = np.std(LRMSE, axis=0, ddof=1)\n",
        "\n",
        "print('RMSE average:', mean)\n",
        "print('RMSE std dev:', std)\n",
        "\n",
        "LRMSE = []\n"
      ]
    },
    {
      "cell_type": "markdown",
      "metadata": {
        "id": "XgE1lsKDN_TS"
      },
      "source": [
        "### **Q4**"
      ]
    },
    {
      "cell_type": "code",
      "execution_count": null,
      "metadata": {
        "id": "WLMEdX57A4PZ"
      },
      "outputs": [],
      "source": [
        "url = 'https://raw.githubusercontent.com/gitparrot/MLHW1/main/x06Simple.csv'\n",
        "csvdata = pd.read_csv(url, header=None, index_col=False)"
      ]
    },
    {
      "cell_type": "code",
      "execution_count": null,
      "metadata": {
        "id": "_x9MBRkmBi94"
      },
      "outputs": [],
      "source": [
        "csvdata = csvdata.iloc[1:,1:]"
      ]
    },
    {
      "cell_type": "code",
      "execution_count": null,
      "metadata": {
        "colab": {
          "base_uri": "https://localhost:8080/"
        },
        "id": "UQHEpMl-A8cD",
        "outputId": "073c0268-e8d1-4e91-870c-292dab77b912"
      },
      "outputs": [
        {
          "name": "stderr",
          "output_type": "stream",
          "text": [
            "/usr/local/lib/python3.7/dist-packages/ipykernel_launcher.py:3: DeprecationWarning: Converting `np.integer` or `np.signedinteger` to a dtype is deprecated. The current result is `np.dtype(np.int_)` which is not strictly correct. Note that the result depends on the system. To ensure stable results use may want to use `np.int64` or `np.int32`.\n",
            "  This is separate from the ipykernel package so we can avoid doing imports until\n"
          ]
        }
      ],
      "source": [
        "csvdata = csvdata.sample(frac=1, random_state=0)\n",
        "csvdata = csvdata.to_numpy()\n",
        "csvdata = csvdata.astype(np.integer)"
      ]
    },
    {
      "cell_type": "code",
      "execution_count": null,
      "metadata": {
        "id": "_16Tw1H0CGBd"
      },
      "outputs": [],
      "source": [
        "m, n = csvdata.shape"
      ]
    },
    {
      "cell_type": "code",
      "execution_count": null,
      "metadata": {
        "id": "38pEAxhjCIiJ"
      },
      "outputs": [],
      "source": [
        "trainrows = int((2/3)*m)\n",
        "testrows = m - trainrows"
      ]
    },
    {
      "cell_type": "code",
      "execution_count": null,
      "metadata": {
        "id": "x4gBHGAPCR15"
      },
      "outputs": [],
      "source": [
        "testdata = csvdata[(trainrows):, :2]\n",
        "testY = csvdata[(trainrows):, 2:]\n",
        "traindata = csvdata[:trainrows, :2]\n",
        "trainY = csvdata[:trainrows, 2:]"
      ]
    },
    {
      "cell_type": "code",
      "execution_count": null,
      "metadata": {
        "id": "IEppqb1jCgFM"
      },
      "outputs": [],
      "source": [
        "mean = np.mean(traindata, axis=0)\n",
        "std = np.std(traindata, axis=0, ddof=1)\n",
        "stdtrain = (traindata - mean)/std\n",
        "mean = np.mean(testdata, axis=0)\n",
        "std = np.std(testdata, axis=0, ddof=1)\n",
        "stdtest = (testdata - mean)/std"
      ]
    },
    {
      "cell_type": "code",
      "execution_count": null,
      "metadata": {
        "id": "p9WNZMv_CnIo"
      },
      "outputs": [],
      "source": [
        "thetazero = np.ones((trainrows, 1))"
      ]
    },
    {
      "cell_type": "code",
      "execution_count": null,
      "metadata": {
        "id": "Waj0sve3Culb"
      },
      "outputs": [],
      "source": [
        "XMat = np.hstack((thetazero, stdtrain))"
      ]
    },
    {
      "cell_type": "code",
      "execution_count": null,
      "metadata": {
        "id": "jV7384BvXeqI"
      },
      "outputs": [],
      "source": [
        "distance = np.ones((trainrows, 1))\n",
        "sqer = np.ones((testrows, 1))"
      ]
    },
    {
      "cell_type": "code",
      "execution_count": null,
      "metadata": {
        "id": "KqTdhypXODx-"
      },
      "outputs": [],
      "source": [
        "for i in range(0,testrows):\n",
        "  for j in range(0,trainrows):\n",
        "    distance[j][0] = np.power(2.71828, np.abs((stdtest[i][0] - stdtrain[j][0])) + np.abs((stdtest[i][1] - stdtrain[j][0])))\n",
        "  W = np.diagflat(distance)\n",
        "  thetas = np.linalg.inv(XMat.T @ W @ XMat) @ XMat.T @ W @ trainY\n",
        "  prediction = (thetas[1] * stdtest[i,0].T) + (thetas[2] * stdtest[i,1]) + thetas[0]\n",
        "  sqer[i][0] = np.square((prediction - testY[i]))\n"
      ]
    },
    {
      "cell_type": "code",
      "execution_count": null,
      "metadata": {
        "colab": {
          "base_uri": "https://localhost:8080/"
        },
        "id": "L58g0AdS8P0z",
        "outputId": "987601bc-f82c-4fe4-cb30-1e60b51241b1"
      },
      "outputs": [
        {
          "name": "stdout",
          "output_type": "stream",
          "text": [
            "RSME:  1407.4886558168937\n"
          ]
        }
      ],
      "source": [
        "RMSE = np.sqrt((1/testrows)*np.sum(sqer))\n",
        "print('RSME: ',RMSE)"
      ]
    },
    {
      "cell_type": "markdown",
      "metadata": {
        "id": "-J_mDcc1BE0G"
      },
      "source": [
        "### **Q5**"
      ]
    },
    {
      "cell_type": "code",
      "execution_count": null,
      "metadata": {
        "colab": {
          "base_uri": "https://localhost:8080/"
        },
        "id": "ydj0jt48Z01v",
        "outputId": "fd446795-e399-4791-c217-af7f6077b345"
      },
      "outputs": [
        {
          "name": "stderr",
          "output_type": "stream",
          "text": [
            "/usr/local/lib/python3.7/dist-packages/ipykernel_launcher.py:6: DeprecationWarning: Converting `np.integer` or `np.signedinteger` to a dtype is deprecated. The current result is `np.dtype(np.int_)` which is not strictly correct. Note that the result depends on the system. To ensure stable results use may want to use `np.int64` or `np.int32`.\n",
            "  \n"
          ]
        }
      ],
      "source": [
        "url = 'https://raw.githubusercontent.com/gitparrot/MLHW1/main/x06Simple.csv'\n",
        "csvdata = pd.read_csv(url, header=None, index_col=False)\n",
        "csvdata = csvdata.iloc[1:,1:]\n",
        "csvdata = csvdata.sample(frac=1, random_state=0)\n",
        "csvdata = csvdata.to_numpy()\n",
        "csvdata = csvdata.astype(np.integer)"
      ]
    },
    {
      "cell_type": "code",
      "execution_count": null,
      "metadata": {
        "id": "CjH2Oc9IaFmy"
      },
      "outputs": [],
      "source": [
        "m, n = csvdata.shape"
      ]
    },
    {
      "cell_type": "code",
      "execution_count": null,
      "metadata": {
        "id": "kjV9tk41aNy1"
      },
      "outputs": [],
      "source": [
        "trainrows = int((1/3)*m)\n",
        "testrows = m - trainrows"
      ]
    },
    {
      "cell_type": "code",
      "execution_count": null,
      "metadata": {
        "colab": {
          "base_uri": "https://localhost:8080/"
        },
        "id": "mwv0UDzfaUY-",
        "outputId": "c2f77b2b-03f7-4459-8389-39bd57737cea"
      },
      "outputs": [
        {
          "data": {
            "text/plain": [
              "array([[ 69,  29],\n",
              "       [ 28,  27],\n",
              "       [ 14,  31],\n",
              "       [ 41,  29],\n",
              "       [ 97,  25],\n",
              "       [ 28,  29],\n",
              "       [ 55,  31],\n",
              "       [153,  27],\n",
              "       [125,  27],\n",
              "       [139,  25],\n",
              "       [ 97,  31],\n",
              "       [139,  31],\n",
              "       [ 55,  25],\n",
              "       [ 14,  25]])"
            ]
          },
          "execution_count": 47,
          "metadata": {},
          "output_type": "execute_result"
        }
      ],
      "source": [
        "testdata = csvdata[range(trainrows, testrows), :2]\n",
        "testY = csvdata[range(trainrows, testrows), 2:]\n",
        "traindata = csvdata[:trainrows, :2]\n",
        "trainY = csvdata[:trainrows, 2:]\n",
        "vdata = csvdata[testrows:, :2]\n",
        "vY = csvdata[testrows:, 2:]\n",
        "vdata"
      ]
    },
    {
      "cell_type": "code",
      "execution_count": null,
      "metadata": {
        "id": "5NKBjAvWaas2"
      },
      "outputs": [],
      "source": [
        "mean = np.mean(traindata, axis=0)\n",
        "std = np.std(traindata, axis=0, ddof=1)\n",
        "stdtrain = (traindata - mean)/std\n",
        "mean = np.mean(testdata, axis=0)\n",
        "std = np.std(testdata, axis=0, ddof=1)\n",
        "stdtest = (testdata - mean)/std\n",
        "mean = np.mean(vdata, axis=0)\n",
        "std = np.std(vdata, axis=0, ddof=1)\n",
        "stdv = (vdata - mean)/std"
      ]
    },
    {
      "cell_type": "code",
      "execution_count": null,
      "metadata": {
        "colab": {
          "base_uri": "https://localhost:8080/"
        },
        "id": "2M_VxKtuansH",
        "outputId": "c6cd2fa3-20fc-4cef-d23e-ee00afc16392"
      },
      "outputs": [
        {
          "data": {
            "text/plain": [
              "(14, 3)"
            ]
          },
          "execution_count": 49,
          "metadata": {},
          "output_type": "execute_result"
        }
      ],
      "source": [
        "thetazero = np.ones((trainrows, 1))\n",
        "XMat = np.hstack((thetazero, stdtrain))\n",
        "thetazero_test = np.ones((len(testY), 1))\n",
        "XMat_test = np.hstack((thetazero_test, stdtest))\n",
        "thetazero_v = np.ones((len(vY), 1))\n",
        "XMat_v = np.hstack((thetazero_v, stdv))\n",
        "np.shape(XMat)"
      ]
    },
    {
      "cell_type": "code",
      "execution_count": null,
      "metadata": {
        "id": "5M1xY9QwpHlC"
      },
      "outputs": [],
      "source": [
        "def RMSEF(y, y_hat):\n",
        "  return np.sqrt(np.sum((y - y_hat) ** 2) / len(y))\n",
        "\n",
        "def accuracy(hyp, targety):\n",
        "  m = np.shape(hyp)\n",
        "  count = 0\n",
        "  for i in range(0, m[0]):\n",
        "    #count accuracy for all right predictions compared with test\n",
        "    if hyp[i] == targety[i]:\n",
        "      count += 1\n",
        "  acc = count / m[0]\n",
        "  return acc"
      ]
    },
    {
      "cell_type": "code",
      "execution_count": null,
      "metadata": {
        "colab": {
          "base_uri": "https://localhost:8080/"
        },
        "id": "dMU0zFzSBbS3",
        "outputId": "c6693db5-b26d-4261-829a-be66dca6869f"
      },
      "outputs": [
        {
          "name": "stdout",
          "output_type": "stream",
          "text": [
            "87\n"
          ]
        }
      ],
      "source": [
        "m, n = np.shape(XMat)\n",
        "learningrate = 0.01\n",
        "iterations = 1000\n",
        "np.random.seed(0)\n",
        "thetas = np.random.uniform(low=-1, high=1, size=(n,1))\n",
        "rmse_training = []\n",
        "rmse_testing = []\n",
        "iter_list = []\n",
        "v_list = []\n",
        "\n",
        "for i in range(iterations):\n",
        "  y_hat = np.dot(XMat, thetas)\n",
        "  vy_hat = np.dot(XMat_v, thetas)\n",
        "  loss =  y_hat - trainY\n",
        "  gradient = 2 * XMat.T.dot(loss)\n",
        "  thetas = thetas - (learningrate/m) * gradient\n",
        "  rmse_value = RMSEF(trainY, y_hat)\n",
        "  rmse_testing.append(RMSEF(testY, np.dot(XMat_test, thetas)))\n",
        "  rmse_training.append(rmse_value)\n",
        "  rmsev = RMSEF(vY, np.dot(XMat_v, thetas))\n",
        "  v_list.append(rmsev)\n",
        "  iter_list.append(i)\n",
        "  if i > 2 and v_list[-1] > v_list[-2]:\n",
        "    print(i)\n",
        "    break\n",
        "  if i != 0 and rmse_training[i-1] - rmse_value < 2 ** -23:\n",
        "    print(i)\n",
        "    break\n"
      ]
    },
    {
      "cell_type": "code",
      "execution_count": null,
      "metadata": {
        "id": "Vm3ElrhYV1-B"
      },
      "outputs": [],
      "source": [
        "def performance(y, yhat):\n",
        "  n = len(y)\n",
        "  perc = np.abs(y - yhat) / n\n",
        "  percmean = np.mean(perc)\n",
        "  print(percmean)"
      ]
    },
    {
      "cell_type": "code",
      "execution_count": null,
      "metadata": {
        "colab": {
          "base_uri": "https://localhost:8080/"
        },
        "id": "hPUZ8CYpRpeP",
        "outputId": "d0b5b1b9-a9ce-41d5-b8b8-2bfe039a1a28"
      },
      "outputs": [
        {
          "name": "stdout",
          "output_type": "stream",
          "text": [
            "43.642572128526176\n"
          ]
        }
      ],
      "source": [
        "performance(testY, np.dot(XMat_test, thetas))"
      ]
    },
    {
      "cell_type": "code",
      "execution_count": null,
      "metadata": {
        "colab": {
          "base_uri": "https://localhost:8080/",
          "height": 278
        },
        "id": "3Qxr2OuB48h4",
        "outputId": "22dc8732-f382-4d98-e28d-f2cbad087c82"
      },
      "outputs": [
        {
          "data": {
            "image/png": "[encoded data removed]",
            "text/plain": [
              "<Figure size 432x288 with 1 Axes>"
            ]
          },
          "metadata": {
            "needs_background": "light"
          },
          "output_type": "display_data"
        }
      ],
      "source": [
        "plt.plot(iter_list, rmse_training, label=\"Training\")\n",
        "plt.plot(iter_list, rmse_testing, label=\"Testing\")\n",
        "plt.plot(iter_list, rmse_testing, label=\"Validating\")\n",
        "plt.xlabel('Iteration')\n",
        "plt.ylabel('RMSE')\n",
        "plt.legend()\n",
        "plt.show()"
      ]
    },
    {
      "cell_type": "code",
      "execution_count": null,
      "metadata": {
        "colab": {
          "base_uri": "https://localhost:8080/"
        },
        "id": "wbzGe5iwBcI6",
        "outputId": "db835d0d-b99d-4751-d97c-88390dad7a62"
      },
      "outputs": [
        {
          "name": "stdout",
          "output_type": "stream",
          "text": [
            "RMSE is 777.6884654567041\n"
          ]
        }
      ],
      "source": [
        "print(f\"RMSE is {RMSEF(testY, np.dot(XMat_test, thetas))}\")"
      ]
    }
  ],
  "metadata": {
    "colab": {
      "provenance": []
    },
    "kernelspec": {
      "display_name": "Python 3",
      "name": "python3"
    },
    "language_info": {
      "name": "python"
    }
  },
  "nbformat": 4,
  "nbformat_minor": 0
}
